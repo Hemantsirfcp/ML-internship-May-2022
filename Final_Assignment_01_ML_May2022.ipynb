{
 "cells": [
  {
   "cell_type": "markdown",
   "id": "9695803e",
   "metadata": {},
   "source": [
    "# Write a python function which should be capable of finding the factorial of any given number as an argument."
   ]
  },
  {
   "cell_type": "code",
   "execution_count": 49,
   "id": "8f479ef1",
   "metadata": {},
   "outputs": [
    {
     "name": "stdout",
     "output_type": "stream",
     "text": [
      "Enter a number for finding the factorial:7\n",
      "\n",
      "Factorial of given number  7  is :  5040\n"
     ]
    }
   ],
   "source": [
    "#Trial Run 01\n",
    "def hysfact(num):\n",
    "    \"\"\"This function returns the factorial of the number supplied by the user\"\"\"\n",
    "    if num==1:\n",
    "        return 1\n",
    "    if num == 0:\n",
    "        return 1\n",
    "    else:\n",
    "        return num*hysfact(num-1)\n",
    "    \n",
    "num=int(input(\"Enter a number for finding the factorial:\"));\n",
    "\n",
    "print(\"\\nFactorial of given number \",num,\" is : \",hysfact(num));"
   ]
  },
  {
   "cell_type": "code",
   "execution_count": 50,
   "id": "2573b1ce",
   "metadata": {},
   "outputs": [
    {
     "name": "stdout",
     "output_type": "stream",
     "text": [
      "Enter a number for finding the factorial:5\n",
      "\n",
      "Factorial of given number  5  is :  120\n"
     ]
    }
   ],
   "source": [
    "#Trial Run 02\n",
    "def hysfact(num):\n",
    "    \"\"\"This function returns the factorial of the number supplied by the user\"\"\"\n",
    "    if num==1:\n",
    "        return 1\n",
    "    if num == 0:\n",
    "        return 1\n",
    "    else:\n",
    "        return num*hysfact(num-1)\n",
    "    \n",
    "num=int(input(\"Enter a number for finding the factorial:\"));\n",
    "\n",
    "print(\"\\nFactorial of given number \",num,\" is : \",hysfact(num));"
   ]
  },
  {
   "cell_type": "code",
   "execution_count": 51,
   "id": "f825e044",
   "metadata": {},
   "outputs": [
    {
     "name": "stdout",
     "output_type": "stream",
     "text": [
      "Enter a number for finding the factorial:9\n",
      "\n",
      "Factorial of given number  9  is :  362880\n"
     ]
    }
   ],
   "source": [
    "#Trial Run 03\n",
    "def hysfact(num):\n",
    "    \"\"\"This function returns the factorial of the number supplied by the user\"\"\"\n",
    "    if num==1:\n",
    "        return 1\n",
    "    if num == 0:\n",
    "        return 1\n",
    "    else:\n",
    "        return num*hysfact(num-1)\n",
    "    \n",
    "num=int(input(\"Enter a number for finding the factorial:\"));\n",
    "\n",
    "print(\"\\nFactorial of given number \",num,\" is : \",hysfact(num));"
   ]
  },
  {
   "cell_type": "code",
   "execution_count": 52,
   "id": "2dafe950",
   "metadata": {},
   "outputs": [
    {
     "name": "stdout",
     "output_type": "stream",
     "text": [
      "Enter a number for finding the factorial:15\n",
      "\n",
      "Factorial of given number  15  is :  1307674368000\n"
     ]
    }
   ],
   "source": [
    "#Trial Run 04\n",
    "def hysfact(num):\n",
    "    \"\"\"This function returns the factorial of the number supplied by the user\"\"\"\n",
    "    if num==1:\n",
    "        return 1\n",
    "    if num == 0:\n",
    "        return 1\n",
    "    else:\n",
    "        return num*hysfact(num-1)\n",
    "    \n",
    "num=int(input(\"Enter a number for finding the factorial:\"));\n",
    "\n",
    "print(\"\\nFactorial of given number \",num,\" is : \",hysfact(num));"
   ]
  },
  {
   "cell_type": "markdown",
   "id": "186d8f3a",
   "metadata": {},
   "source": [
    "# Write a function which accepts 3 arguments from the user.1 .number 1, 2. Number2 and 3. An operation. The operation supported should be +, -, *, and /. The function should return the result of given operation. For example arguments are 3,2,+ then result returned should be 5."
   ]
  },
  {
   "cell_type": "code",
   "execution_count": 8,
   "id": "836ef06c",
   "metadata": {},
   "outputs": [],
   "source": [
    "def hys(a,b,op):\n",
    "    '''This function combines the first two arguments with the operator supplied as third argument and returns the result'''\n",
    "    if op == '+':\n",
    "        return a+b\n",
    "    elif op == '-':\n",
    "        return a-b\n",
    "    elif op == '*':\n",
    "        return a*b\n",
    "    else:\n",
    "        return a/b"
   ]
  },
  {
   "cell_type": "code",
   "execution_count": 13,
   "id": "013f632a",
   "metadata": {},
   "outputs": [
    {
     "name": "stdout",
     "output_type": "stream",
     "text": [
      "-10\n",
      "15\n",
      "180\n",
      "-8.333333333333334\n"
     ]
    }
   ],
   "source": [
    "#Sample Run of above function\n",
    "P = hys(10,-20,'+')\n",
    "print(P)\n",
    "Q = hys(20,5,'-')\n",
    "print(Q)\n",
    "R = hys(30, 6, '*')\n",
    "print(R)\n",
    "S = hys(25, -3,'/')\n",
    "print(S)\n"
   ]
  },
  {
   "cell_type": "markdown",
   "id": "51218dec",
   "metadata": {},
   "source": [
    "## Write a function which takes any number of arguments from a user and return the result which should be output of a2 + b2+ c2+… if a , b ,c are numbers supplied ..i.e if 1,2,3 are supplied then result returned should be 14. But user may supply any number of inputs so make the function to adapt to that."
   ]
  },
  {
   "cell_type": "code",
   "execution_count": 46,
   "id": "ed072aa1",
   "metadata": {},
   "outputs": [
    {
     "data": {
      "text/plain": [
       "204"
      ]
     },
     "execution_count": 46,
     "metadata": {},
     "output_type": "execute_result"
    }
   ],
   "source": [
    "#Trial Run 01\n",
    "def hyssqure(*nos):\n",
    "    '''This function returns the sum of squares of the numbers provided as argument by the user'''\n",
    "    ans = 0\n",
    "    for number in nos:\n",
    "        ans = ans + number*number\n",
    "    return ans\n",
    "hyssqure(1,2,3,4,5,6,7,8)\n"
   ]
  },
  {
   "cell_type": "code",
   "execution_count": 47,
   "id": "1b6baa08",
   "metadata": {},
   "outputs": [
    {
     "data": {
      "text/plain": [
       "14"
      ]
     },
     "execution_count": 47,
     "metadata": {},
     "output_type": "execute_result"
    }
   ],
   "source": [
    "#Trial Run 02\n",
    "def hyssqure(*nos):\n",
    "    '''This function returns the sum of squares of the numbers provided as argument by the user'''\n",
    "    ans = 0\n",
    "    for number in nos:\n",
    "        ans = ans + number*number\n",
    "    return ans\n",
    "hyssqure(1,2,3)"
   ]
  },
  {
   "cell_type": "code",
   "execution_count": 48,
   "id": "93241638",
   "metadata": {},
   "outputs": [
    {
     "data": {
      "text/plain": [
       "33"
      ]
     },
     "execution_count": 48,
     "metadata": {},
     "output_type": "execute_result"
    }
   ],
   "source": [
    "#Trial Run 03\n",
    "def hyssqure(*nos):\n",
    "    '''This function returns the sum of squares of the numbers provided as argument by the user'''\n",
    "    ans = 0\n",
    "    for number in nos:\n",
    "        ans = ans + number*number\n",
    "    return ans\n",
    "hyssqure(1,2,3,1,2,3,1,2)"
   ]
  },
  {
   "cell_type": "markdown",
   "id": "4f1c4f0b",
   "metadata": {},
   "source": [
    "## Create a function which takes a number as its argument and return the number of digits in it. Use of len function is not allowed. For example for 5 it should return 1, for 32 it should return 2 and 123 , 3 should be returned and so on."
   ]
  },
  {
   "cell_type": "code",
   "execution_count": 40,
   "id": "6fe0a5da",
   "metadata": {},
   "outputs": [
    {
     "name": "stdout",
     "output_type": "stream",
     "text": [
      "Enter the number to find number of digits:4\n"
     ]
    },
    {
     "data": {
      "text/plain": [
       "1"
      ]
     },
     "execution_count": 40,
     "metadata": {},
     "output_type": "execute_result"
    }
   ],
   "source": [
    "#Trial Run 01\n",
    "def hysdigits(num):\n",
    "    \"\"\" This function counts the number of digits in a number entered by the user as an argument \"\"\"\n",
    "    count=0\n",
    "    for i in num:\n",
    "        count=count+1\n",
    "    return count\n",
    "    print(\"The number of digits is \",count)\n",
    "num=input(\"Enter the number to find number of digits:\")\n",
    "hysdigits(num)"
   ]
  },
  {
   "cell_type": "code",
   "execution_count": 41,
   "id": "10f6fa45",
   "metadata": {},
   "outputs": [
    {
     "name": "stdout",
     "output_type": "stream",
     "text": [
      "Enter the number to find number of digits:26\n"
     ]
    },
    {
     "data": {
      "text/plain": [
       "2"
      ]
     },
     "execution_count": 41,
     "metadata": {},
     "output_type": "execute_result"
    }
   ],
   "source": [
    "#Trial Run 02\n",
    "def hysdigits(num):\n",
    "    \"\"\" This function counts the number of digits in a number entered by the user as an argument \"\"\"\n",
    "    count=0\n",
    "    for i in num:\n",
    "        count=count+1\n",
    "    return count\n",
    "    print(\"The number of digits is \",count)\n",
    "num=input(\"Enter the number to find number of digits:\")\n",
    "hysdigits(num)"
   ]
  },
  {
   "cell_type": "code",
   "execution_count": 42,
   "id": "3f71f7dd",
   "metadata": {},
   "outputs": [
    {
     "name": "stdout",
     "output_type": "stream",
     "text": [
      "Enter the number to find number of digits:568\n"
     ]
    },
    {
     "data": {
      "text/plain": [
       "3"
      ]
     },
     "execution_count": 42,
     "metadata": {},
     "output_type": "execute_result"
    }
   ],
   "source": [
    "#Trial Run 03\n",
    "def hysdigits(num):\n",
    "    \"\"\" This function counts the number of digits in a number entered by the user as an argument \"\"\"\n",
    "    count=0\n",
    "    for i in num:\n",
    "        count=count+1\n",
    "    return count\n",
    "    print(\"The number of digits is \",count)\n",
    "num=input(\"Enter the number to find number of digits:\")\n",
    "hysdigits(num)"
   ]
  },
  {
   "cell_type": "code",
   "execution_count": 45,
   "id": "e808dca4",
   "metadata": {},
   "outputs": [
    {
     "name": "stdout",
     "output_type": "stream",
     "text": [
      "Enter the number to find number of digits:12345\n"
     ]
    },
    {
     "data": {
      "text/plain": [
       "5"
      ]
     },
     "execution_count": 45,
     "metadata": {},
     "output_type": "execute_result"
    }
   ],
   "source": [
    "#Trial Run 04\n",
    "def hysdigits(num):\n",
    "    \"\"\" This function counts the number of digits in a number entered by the user as an argument \"\"\"\n",
    "    count=0\n",
    "    for i in num:\n",
    "        count=count+1\n",
    "    return count\n",
    "    print(\"The number of digits is \",count)\n",
    "num=input(\"Enter the number to find number of digits:\")\n",
    "hysdigits(num)"
   ]
  },
  {
   "cell_type": "markdown",
   "id": "b48de7f5",
   "metadata": {},
   "source": [
    "# Write a function which takes a number as argument suppose 5 and gives results as multiplication of factorial of each positive number less than or equal to the number given. i.e !5*!4*!3*!2*!1 = 34560. "
   ]
  },
  {
   "cell_type": "code",
   "execution_count": 36,
   "id": "68addc13",
   "metadata": {},
   "outputs": [
    {
     "name": "stdout",
     "output_type": "stream",
     "text": [
      "Enter a number for finding the factorial product:5\n",
      "\n",
      "Factorial product of given number  5  is :  34560\n"
     ]
    }
   ],
   "source": [
    "#Trial Run 01\n",
    "def hysfact(num):\n",
    "    \"\"\"This function returns the factorial of the number supplied by the user\"\"\"\n",
    "    if num==1:\n",
    "        return 1\n",
    "    if num == 0:\n",
    "        return 1\n",
    "    else:\n",
    "        return num*hysfact(num-1)\n",
    "    \n",
    "num=int(input(\"Enter a number for finding the factorial product:\"));\n",
    "factprod=1\n",
    "for i in range (1,num+1):\n",
    "    factprod=factprod*hysfact(i)\n",
    "\n",
    "print(\"\\nFactorial product of given number \",num,\" is : \",factprod);"
   ]
  },
  {
   "cell_type": "code",
   "execution_count": 37,
   "id": "4d41bb8f",
   "metadata": {},
   "outputs": [
    {
     "name": "stdout",
     "output_type": "stream",
     "text": [
      "Enter a number for finding the factorial product:3\n",
      "\n",
      "Factorial product of given number  3  is :  12\n"
     ]
    }
   ],
   "source": [
    "#Trial Run 02\n",
    "def hysfact(num):\n",
    "    \"\"\"This function returns the factorial of the number supplied by the user\"\"\"\n",
    "    if num==1:\n",
    "        return 1\n",
    "    if num == 0:\n",
    "        return 1\n",
    "    else:\n",
    "        return num*hysfact(num-1)\n",
    "    \n",
    "num=int(input(\"Enter a number for finding the factorial product:\"));\n",
    "factprod=1\n",
    "for i in range (1,num+1):\n",
    "    factprod=factprod*hysfact(i)\n",
    "\n",
    "print(\"\\nFactorial product of given number \",num,\" is : \",factprod);"
   ]
  },
  {
   "cell_type": "code",
   "execution_count": 38,
   "id": "d2d54a9b",
   "metadata": {},
   "outputs": [
    {
     "name": "stdout",
     "output_type": "stream",
     "text": [
      "Enter a number for finding the factorial product:8\n",
      "\n",
      "Factorial product of given number  8  is :  5056584744960000\n"
     ]
    }
   ],
   "source": [
    "#Trial Run 03\n",
    "def hysfact(num):\n",
    "    \"\"\"This function returns the factorial of the number supplied by the user\"\"\"\n",
    "    if num==1:\n",
    "        return 1\n",
    "    if num == 0:\n",
    "        return 1\n",
    "    else:\n",
    "        return num*hysfact(num-1)\n",
    "    \n",
    "num=int(input(\"Enter a number for finding the factorial product:\"));\n",
    "factprod=1\n",
    "for i in range (1,num+1):\n",
    "    factprod=factprod*hysfact(i)\n",
    "\n",
    "print(\"\\nFactorial product of given number \",num,\" is : \",factprod);"
   ]
  },
  {
   "cell_type": "code",
   "execution_count": 39,
   "id": "9f29bd1f",
   "metadata": {},
   "outputs": [
    {
     "name": "stdout",
     "output_type": "stream",
     "text": [
      "Enter a number for finding the factorial product:10\n",
      "\n",
      "Factorial product of given number  10  is :  6658606584104736522240000000\n"
     ]
    }
   ],
   "source": [
    "#Trial Run 04\n",
    "def hysfact(num):\n",
    "    \"\"\"This function retrns the factorial of the number supplied by the user\"\"\"\n",
    "    if num==1:\n",
    "        return 1\n",
    "    if num == 0:\n",
    "        return 1\n",
    "    else:\n",
    "        return num*hysfact(num-1)\n",
    "    \n",
    "num=int(input(\"Enter a number for finding the factorial product:\"));\n",
    "factprod=1\n",
    "for i in range (1,num+1):\n",
    "    factprod=factprod*hysfact(i)\n",
    "\n",
    "print(\"\\nFactorial product of given number \",num,\" is : \",factprod);"
   ]
  },
  {
   "cell_type": "markdown",
   "id": "b7dcb80e",
   "metadata": {},
   "source": [
    "# Luke Skywalker has family and friends. Help him remind them who is who. Given a string with a name, return the relation of that person to Luke. \n",
    "# Person                      Relation \n",
    "# Darth Vader              father \n",
    "# Leia                           sister \n",
    "# Han                           brother in law \n",
    "# R2D2                       droid\n",
    "# Example : relation_to_luke(\"Darth Vader\") ➞ \"Luke, I am your father.\""
   ]
  },
  {
   "cell_type": "code",
   "execution_count": 32,
   "id": "89584194",
   "metadata": {},
   "outputs": [
    {
     "name": "stdout",
     "output_type": "stream",
     "text": [
      "Luke, I am a Droid\n"
     ]
    }
   ],
   "source": [
    "#Trial Run 01\n",
    "def hys_relation_to_Luke(name):\n",
    "    \"\"\"This function returns the relation of the person to Luke\"\"\"\n",
    "    if name ==\"Darth Vader\":\n",
    "        print(\"Luke, I am your father\")\n",
    "    elif name == \"Leia\":\n",
    "            print(\"Luke, I am your Sister\")\n",
    "    elif name == \"Han\":\n",
    "            print(\"Luke, I am your Brother in Law\")\n",
    "    elif name == \"R2D2\":\n",
    "            print(\"Luke, I am a Droid\")\n",
    "\n",
    "hys_relation_to_Luke(\"R2D2\")\n",
    "            "
   ]
  },
  {
   "cell_type": "code",
   "execution_count": 33,
   "id": "a62b17e0",
   "metadata": {},
   "outputs": [
    {
     "name": "stdout",
     "output_type": "stream",
     "text": [
      "Luke, I am your Brother in Law\n"
     ]
    }
   ],
   "source": [
    "#Trial Run 02\n",
    "def hys_relation_to_Luke(name):\n",
    "    \"\"\"This function returns the relation of the person to Luke\"\"\"\n",
    "    if name ==\"Darth Vader\":\n",
    "        print(\"Luke, I am your father\")\n",
    "    elif name == \"Leia\":\n",
    "            print(\"Luke, I am your Sister\")\n",
    "    elif name == \"Han\":\n",
    "            print(\"Luke, I am your Brother in Law\")\n",
    "    elif name == \"R2D2\":\n",
    "            print(\"Luke, I am a Droid\")\n",
    "\n",
    "hys_relation_to_Luke(\"Han\")"
   ]
  },
  {
   "cell_type": "code",
   "execution_count": 34,
   "id": "581432a9",
   "metadata": {},
   "outputs": [
    {
     "name": "stdout",
     "output_type": "stream",
     "text": [
      "Luke, I am your Sister\n"
     ]
    }
   ],
   "source": [
    "#Trial Run 03\n",
    "def hys_relation_to_Luke(name):\n",
    "    \"\"\"This function returns the relation of the person to Luke\"\"\"\n",
    "    if name ==\"Darth Vader\":\n",
    "        print(\"Luke, I am your father\")\n",
    "    elif name == \"Leia\":\n",
    "            print(\"Luke, I am your Sister\")\n",
    "    elif name == \"Han\":\n",
    "            print(\"Luke, I am your Brother in Law\")\n",
    "    elif name == \"R2D2\":\n",
    "            print(\"Luke, I am a Droid\")\n",
    "\n",
    "hys_relation_to_Luke(\"Leia\")"
   ]
  },
  {
   "cell_type": "code",
   "execution_count": 35,
   "id": "ab2dbce1",
   "metadata": {},
   "outputs": [
    {
     "name": "stdout",
     "output_type": "stream",
     "text": [
      "Luke, I am your father\n"
     ]
    }
   ],
   "source": [
    "#Trial Run 04\n",
    "def hys_relation_to_Luke(name):\n",
    "    \"\"\"This function returns the relation of the person to Luke\"\"\"\n",
    "    if name ==\"Darth Vader\":\n",
    "        print(\"Luke, I am your father\")\n",
    "    elif name == \"Leia\":\n",
    "            print(\"Luke, I am your Sister\")\n",
    "    elif name == \"Han\":\n",
    "            print(\"Luke, I am your Brother in Law\")\n",
    "    elif name == \"R2D2\":\n",
    "            print(\"Luke, I am a Droid\")\n",
    "\n",
    "hys_relation_to_Luke(\"Darth Vader\")"
   ]
  },
  {
   "cell_type": "markdown",
   "id": "62156c05",
   "metadata": {},
   "source": [
    "# Write a function which takes an argument which should be a numeric +ve integer. Depending on the input supplied you have to print “I CAN”, “I WILL”. Suppose some one enters argument as 1 then only “I CAN” should be printed. But if some one enters 2 then first “I CAN” should be printed then “I WILL”. And if someone enters 3 then following should be printed in corresponding order: “I CAN”, “I WILL”, “I CAN” and so on for any numbers entered."
   ]
  },
  {
   "cell_type": "code",
   "execution_count": 30,
   "id": "e10d7f18",
   "metadata": {
    "scrolled": true
   },
   "outputs": [
    {
     "name": "stdout",
     "output_type": "stream",
     "text": [
      "Enter the value of an integer: \n",
      "None4\n",
      "I Can\n",
      "I Will\n",
      "I Can\n",
      "I Will\n"
     ]
    }
   ],
   "source": [
    "# Trial Run 01\n",
    "hys_list1=[\"I Can\",\"I Will\"]\n",
    "\n",
    "def hys_print(num):\n",
    "    \"\"\" This function takes a numeric integer as an argument.\n",
    "    It prints the elements in the given list as many number of times as the argument\n",
    "    \"\"\"\n",
    "    for i in range (num):\n",
    "        if i==num:\n",
    "            print(hys_list1[i])\n",
    "            break\n",
    "        else:\n",
    "                hys_list1.extend(hys_list1)\n",
    "                print(hys_list1[i])\n",
    "\n",
    "num=int(input(print(\"Enter the value of an integer: \")))\n",
    "hys_print(num)               "
   ]
  },
  {
   "cell_type": "code",
   "execution_count": 31,
   "id": "61ad7942",
   "metadata": {},
   "outputs": [
    {
     "name": "stdout",
     "output_type": "stream",
     "text": [
      "Enter the value of an integer: \n",
      "None7\n",
      "I Can\n",
      "I Will\n",
      "I Can\n",
      "I Will\n",
      "I Can\n",
      "I Will\n",
      "I Can\n"
     ]
    }
   ],
   "source": [
    "# Trial Run 02\n",
    "hys_list1=[\"I Can\",\"I Will\"]\n",
    "\n",
    "def hys_print(num):\n",
    "    \"\"\" This function takes a numeric integer as an argument.\n",
    "    It prints the elements in the given list as many number of times as the argument\n",
    "    \"\"\"\n",
    "    for i in range (num):\n",
    "        if i==num:\n",
    "            print(hys_list1[i])\n",
    "            break\n",
    "        else:\n",
    "                hys_list1.extend(hys_list1)\n",
    "                print(hys_list1[i])\n",
    "\n",
    "num=int(input(print(\"Enter the value of an integer: \")))\n",
    "hys_print(num) "
   ]
  },
  {
   "cell_type": "markdown",
   "id": "58a7b898",
   "metadata": {},
   "source": [
    "# We have been given a list of whole numbers which represents the color of each gloves, determine how many pairs of gloves with matching colors there are. For example, there are 7 gloves with colors [1, 2, 1, 2, 1, 3, 2]. There is one pair of color 1 and one of color 2. There are three odd gloves left, one of each color. The number of pairs is 2. Create a function that returns an integer representing the number of matching pairs of gloves that are available."
   ]
  },
  {
   "cell_type": "code",
   "execution_count": 119,
   "id": "5550a105",
   "metadata": {},
   "outputs": [
    {
     "name": "stdout",
     "output_type": "stream",
     "text": [
      "\n",
      " The given list of colors of the gloves is as follows: [1, 2, 1, 2, 3, 2, 2, 3, 3, 3, 3, 3, 3, 1, 1, 1, 1, 1, 1, 1, 4]\n",
      "\n",
      "Colour of the glove :\n",
      "None1\n",
      "No of gloves of color  1 in the given list: 9\n",
      "\n",
      "No of Matching pairs of gloves is : 4\n"
     ]
    }
   ],
   "source": [
    "hys_list= [1,2,1,2,3,2,2,3,3,3,3,3,3,1,1,1,1,1,1,1,4]\n",
    "\n",
    "def hys_matching_pairs(list,color):\n",
    "    \"\"\" This function returns the integer corresponding to \n",
    "    the number of matching pairs of gloves that are available in the given list\n",
    "    the color of which is represented by an integer number\"\"\"\n",
    "    n=list.count(color)\n",
    "    print(\"No of gloves of color \", color, \"in the given list:\",n)\n",
    "    return (n/2)\n",
    "\n",
    "print(\"\\n The given list of colors of the gloves is as follows:\",hys_list)\n",
    "c=int(input(print(\"\\nColour of the glove :\")))\n",
    "q=hys_matching_pairs(hys_list,c)    \n",
    "print(\"\\nNo of Matching pairs of gloves is :\", int(q))\n",
    "\n",
    "    "
   ]
  },
  {
   "cell_type": "markdown",
   "id": "27284409",
   "metadata": {},
   "source": [
    "# Write a function that returns True if two arrays, when combined, form a consecutive sequence. A consecutive sequence is a sequence without any gaps in the integers, e.g. 1, 2, 3, 4, 5 is a consecutive sequence, but 1, 2, 4, 5 is not. Notes • The input lists will have unique values. • The input lists can be in any order.\n",
    "# Examples\n",
    "# consecutive_combo([7, 4, 5, 1], [2, 3, 6]) ➞ True\n",
    "# consecutive_combo([1, 4, 6, 5], [2, 7, 8, 9]) ➞ False"
   ]
  },
  {
   "cell_type": "code",
   "execution_count": 25,
   "id": "9dcb615e",
   "metadata": {},
   "outputs": [
    {
     "name": "stdout",
     "output_type": "stream",
     "text": [
      "\n",
      "Original list L1:  [1, 3, 5, 9]\n",
      "\n",
      "Original list L2:  [2, 6, 4, 7, 8]\n",
      "\n",
      "Combined Original list L1 & L2:  [1, 3, 5, 9, 2, 6, 4, 7, 8]\n",
      "\n",
      "Sorted Combined list:  [1, 2, 3, 4, 5, 6, 7, 8, 9]\n",
      "\n",
      "List of Consecutive Positive Integers : [1, 2, 3, 4, 5, 6, 7, 8, 9]\n",
      "\n",
      "Comparison of Sorted Combined list and list of Consecutive Positive integers:\n",
      "\n",
      " True\n"
     ]
    }
   ],
   "source": [
    "def HYS_Consecutive_Combo(HYS_L1L2):\n",
    "    \"\"\" This function compares the given list with the list of consecutive positive integers and \n",
    "    returns True or False. The list of consecutive positive integers is formed by using range function\"\"\"\n",
    "    return sorted(HYS_L1L2) == list(range(min(HYS_L1L2), max(HYS_L1L2)+1))\n",
    "#Trial Run 01\n",
    "HYS_L1=[1, 3, 5,9]\n",
    "HYS_L2=[2,6,4,7,8]\n",
    "HYS_L1L2=HYS_L1+HYS_L2\n",
    "\n",
    "print(\"\\nOriginal list L1: \",HYS_L1)\n",
    "print(\"\\nOriginal list L2: \",HYS_L2)\n",
    "print(\"\\nCombined Original list L1 & L2: \",HYS_L1L2)\n",
    "\n",
    "print(\"\\nSorted Combined list: \",sorted(HYS_L1L2))\n",
    "print(\"\\nList of Consecutive Positive Integers :\",list(range(min(HYS_L1L2), max(HYS_L1L2)+1)))\n",
    "print(\"\\nComparison of Sorted Combined list and list of Consecutive Positive integers:\\n\\n\",HYS_Consecutive_Combo(HYS_L1L2))"
   ]
  },
  {
   "cell_type": "code",
   "execution_count": 229,
   "id": "286f829e",
   "metadata": {},
   "outputs": [
    {
     "name": "stdout",
     "output_type": "stream",
     "text": [
      "\n",
      "Original list L1:  [10, 30, 50, 90]\n",
      "\n",
      "Original list L2:  [20, 60, 40, 70, 80]\n",
      "\n",
      "Combined Original list L1 & L2:  [10, 30, 50, 90, 20, 60, 40, 70, 80]\n",
      "\n",
      "Sorted Combined list:  [10, 20, 30, 40, 50, 60, 70, 80, 90]\n",
      "\n",
      "List of Consecutive Positive Integers : [10, 11, 12, 13, 14, 15, 16, 17, 18, 19, 20, 21, 22, 23, 24, 25, 26, 27, 28, 29, 30, 31, 32, 33, 34, 35, 36, 37, 38, 39, 40, 41, 42, 43, 44, 45, 46, 47, 48, 49, 50, 51, 52, 53, 54, 55, 56, 57, 58, 59, 60, 61, 62, 63, 64, 65, 66, 67, 68, 69, 70, 71, 72, 73, 74, 75, 76, 77, 78, 79, 80, 81, 82, 83, 84, 85, 86, 87, 88, 89, 90]\n",
      "\n",
      "Comparison of Sorted Combined list and list of Consecutive Positive integers:\n",
      "\n",
      " False\n"
     ]
    }
   ],
   "source": [
    "def HYS_Consecutive_Combo(HYS_L1L2):\n",
    "    \"\"\" This function compares the given list with the list of consecutive positive integers and \n",
    "    returns True or False. The list of consecutive positive integers is formed by using range function\"\"\"\n",
    "    return sorted(HYS_L1L2) == list(range(min(HYS_L1L2), max(HYS_L1L2)+1))\n",
    "\n",
    "HYS_L1=[10, 30, 50,90]\n",
    "HYS_L2=[20,60,40,70,80]\n",
    "HYS_L1L2=HYS_L1+HYS_L2\n",
    "\n",
    "print(\"\\nOriginal list L1: \",HYS_L1)\n",
    "print(\"\\nOriginal list L2: \",HYS_L2)\n",
    "print(\"\\nCombined Original list L1 & L2: \",HYS_L1L2)\n",
    "\n",
    "print(\"\\nSorted Combined list: \",sorted(HYS_L1L2))\n",
    "print(\"\\nList of Consecutive Positive Integers :\",list(range(min(HYS_L1L2), max(HYS_L1L2)+1)))\n",
    "print(\"\\nComparison of Sorted Combined list and list of Consecutive Positive integers:\\n\\n\",HYS_Consecutive_Combo(HYS_L1L2))"
   ]
  },
  {
   "cell_type": "code",
   "execution_count": 26,
   "id": "34b2f833",
   "metadata": {},
   "outputs": [
    {
     "name": "stdout",
     "output_type": "stream",
     "text": [
      "\n",
      "Original list L1:  [10, 30, 50, 90]\n",
      "\n",
      "Original list L2:  [20, 60, 40, 70, 80]\n",
      "\n",
      "Combined Original list L1 & L2:  [10, 30, 50, 90, 20, 60, 40, 70, 80]\n",
      "\n",
      "Sorted Combined list:  [10, 20, 30, 40, 50, 60, 70, 80, 90]\n",
      "\n",
      "List of Consecutive Positive Integers : [10, 11, 12, 13, 14, 15, 16, 17, 18, 19, 20, 21, 22, 23, 24, 25, 26, 27, 28, 29, 30, 31, 32, 33, 34, 35, 36, 37, 38, 39, 40, 41, 42, 43, 44, 45, 46, 47, 48, 49, 50, 51, 52, 53, 54, 55, 56, 57, 58, 59, 60, 61, 62, 63, 64, 65, 66, 67, 68, 69, 70, 71, 72, 73, 74, 75, 76, 77, 78, 79, 80, 81, 82, 83, 84, 85, 86, 87, 88, 89, 90]\n",
      "\n",
      "Comparison of Sorted Combined list and list of Consecutive Positive integers:\n",
      "\n",
      " False\n"
     ]
    }
   ],
   "source": [
    "def HYS_Consecutive_Combo(HYS_L1L2):\n",
    "    \"\"\" This function compares the given list with the list of consecutive positive integers and \n",
    "    returns True or False. The list of consecutive positive integers is formed by using range function\"\"\"\n",
    "    return sorted(HYS_L1L2) == list(range(min(HYS_L1L2), max(HYS_L1L2)+1))\n",
    "\n",
    "#Trial Run 02\n",
    "HYS_L1=[10, 30, 50,90]\n",
    "HYS_L2=[20,60,40,70,80]\n",
    "HYS_L1L2=HYS_L1+HYS_L2\n",
    "\n",
    "print(\"\\nOriginal list L1: \",HYS_L1)\n",
    "print(\"\\nOriginal list L2: \",HYS_L2)\n",
    "print(\"\\nCombined Original list L1 & L2: \",HYS_L1L2)\n",
    "\n",
    "print(\"\\nSorted Combined list: \",sorted(HYS_L1L2))\n",
    "print(\"\\nList of Consecutive Positive Integers :\",list(range(min(HYS_L1L2), max(HYS_L1L2)+1)))\n",
    "print(\"\\nComparison of Sorted Combined list and list of Consecutive Positive integers:\\n\\n\",HYS_Consecutive_Combo(HYS_L1L2))"
   ]
  },
  {
   "cell_type": "code",
   "execution_count": 27,
   "id": "3b6dc2cb",
   "metadata": {},
   "outputs": [
    {
     "name": "stdout",
     "output_type": "stream",
     "text": [
      "\n",
      "Original list L1:  [1, 3, 5, 9]\n",
      "\n",
      "Original list L2:  [2, 6, 4, 7]\n",
      "\n",
      "Combined Original list L1 & L2:  [1, 3, 5, 9, 2, 6, 4, 7]\n",
      "\n",
      "Sorted Combined list:  [1, 2, 3, 4, 5, 6, 7, 9]\n",
      "\n",
      "List of Consecutive Positive Integers : [1, 2, 3, 4, 5, 6, 7, 8, 9]\n",
      "\n",
      "Comparison of Sorted Combined list and list of Consecutive Positive integers:\n",
      "\n",
      " False\n"
     ]
    }
   ],
   "source": [
    "def HYS_Consecutive_Combo(HYS_L1L2):\n",
    "    \"\"\" This function compares the given list with the list of consecutive positive integers and \n",
    "    returns True or False. The list of consecutive positive integers is formed by using range function\"\"\"\n",
    "    return sorted(HYS_L1L2) == list(range(min(HYS_L1L2), max(HYS_L1L2)+1))\n",
    "\n",
    "#Trial Run 03\n",
    "HYS_L1=[1, 3, 5,9]\n",
    "HYS_L2=[2,6,4,7]\n",
    "HYS_L1L2=HYS_L1+HYS_L2\n",
    "\n",
    "print(\"\\nOriginal list L1: \",HYS_L1)\n",
    "print(\"\\nOriginal list L2: \",HYS_L2)\n",
    "print(\"\\nCombined Original list L1 & L2: \",HYS_L1L2)\n",
    "\n",
    "print(\"\\nSorted Combined list: \",sorted(HYS_L1L2))\n",
    "print(\"\\nList of Consecutive Positive Integers :\",list(range(min(HYS_L1L2), max(HYS_L1L2)+1)))\n",
    "print(\"\\nComparison of Sorted Combined list and list of Consecutive Positive integers:\\n\\n\",HYS_Consecutive_Combo(HYS_L1L2))"
   ]
  },
  {
   "cell_type": "markdown",
   "id": "04af8ec5",
   "metadata": {},
   "source": [
    "# You work for a manufacturer, and have been asked to calculate the total profit made on the sales of a product. You are given a dictionary containing the cost price per unit (in dollars), sell price per  unit (in dollars), and the starting inventory. Return the total profit made, rounded to the nearest dollar.\n",
    "profit({\n",
    " \"cost_price\": 32.67,\n",
    " \"sell_price\": 45.00,\n",
    " \"inventory\": 1200\n",
    "}) ➞ 14796"
   ]
  },
  {
   "cell_type": "code",
   "execution_count": 28,
   "id": "a9860ad2",
   "metadata": {},
   "outputs": [
    {
     "name": "stdout",
     "output_type": "stream",
     "text": [
      "\n",
      "Total Profit made (rounded to the nearest dollar) is : 14796\n"
     ]
    }
   ],
   "source": [
    "#Trial Run 01\n",
    "HYS_Sales={\"Cost_price\":32.67, \"Sell_price\":45.00,\"Inventory\":1200}\n",
    "Profit_Function= round((HYS_Sales[\"Sell_price\"]-HYS_Sales[\"Cost_price\"])*HYS_Sales[\"Inventory\"])\n",
    "print(\"\\nTotal Profit made (rounded to the nearest dollar) is :\",Profit_Function)"
   ]
  },
  {
   "cell_type": "code",
   "execution_count": 29,
   "id": "176fed38",
   "metadata": {},
   "outputs": [
    {
     "name": "stdout",
     "output_type": "stream",
     "text": [
      "\n",
      "Total Profit made (rounded to the nearest dollar) is : 36615\n"
     ]
    }
   ],
   "source": [
    "#Trial Run 02\n",
    "HYS_Sales={\"Cost_price\":30.59, \"Sell_price\":55.00,\"Inventory\":1500}\n",
    "Profit_Function= round((HYS_Sales[\"Sell_price\"]-HYS_Sales[\"Cost_price\"])*HYS_Sales[\"Inventory\"])\n",
    "print(\"\\nTotal Profit made (rounded to the nearest dollar) is :\",Profit_Function)"
   ]
  }
 ],
 "metadata": {
  "kernelspec": {
   "display_name": "Python 3 (ipykernel)",
   "language": "python",
   "name": "python3"
  },
  "language_info": {
   "codemirror_mode": {
    "name": "ipython",
    "version": 3
   },
   "file_extension": ".py",
   "mimetype": "text/x-python",
   "name": "python",
   "nbconvert_exporter": "python",
   "pygments_lexer": "ipython3",
   "version": "3.9.7"
  }
 },
 "nbformat": 4,
 "nbformat_minor": 5
}
